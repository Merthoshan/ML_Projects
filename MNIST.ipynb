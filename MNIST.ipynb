{
 "cells": [
  {
   "cell_type": "markdown",
   "id": "7076e37e-458f-4429-9aa2-f12dd50ce7b9",
   "metadata": {},
   "source": [
    "### Importing stuff"
   ]
  },
  {
   "cell_type": "code",
   "execution_count": null,
   "id": "20a50fd7-71b8-4af4-8c7e-a3de605aba54",
   "metadata": {},
   "outputs": [],
   "source": [
    "# baseline cnn model for mnist\n",
    "from numpy import mean\n",
    "from numpy import std\n",
    "from matplotlib import pyplot as plt\n",
    "from sklearn.model_selection import KFold\n",
    "from tensorflow.keras.datasets import mnist\n",
    "from tensorflow.keras.utils import to_categorical\n",
    "from tensorflow.keras.models import Sequential\n",
    "from tensorflow.keras.layers import Conv2D\n",
    "from tensorflow.keras.layers import MaxPooling2D\n",
    "from tensorflow.keras.layers import Dense\n",
    "from tensorflow.keras.layers import Flatten\n",
    "from tensorflow.keras.optimizers import SGD"
   ]
  },
  {
   "cell_type": "markdown",
   "id": "f9616ce1-82b7-4a62-994d-84109284f76b",
   "metadata": {},
   "source": [
    "### Loading the data set\n",
    "* greyscale image \n",
    "* encoding "
   ]
  },
  {
   "cell_type": "code",
   "execution_count": null,
   "id": "b4c60c42-0afa-400a-b9b1-ec49973f7469",
   "metadata": {},
   "outputs": [],
   "source": [
    "def load_dataset():\n",
    "    (x_train , y_train) , (x_test , y_test) = mnist.load_data()\n",
    "    # grayscale image \n",
    "    trainX = x_train.reshape((x_train.shape[0], 28, 28, 1))\n",
    "    testX = x_test.reshape((x_test.shape[0], 28, 28, 1))\n",
    "    print(x_train.shape[0])\n",
    "    # one hot encoding the target values\n",
    "    y_train = to_categorical(y_train)\n",
    "    y_test = to_categorical(y_test)\n",
    "    return x_train, x_test, y_train, y_test"
   ]
  },
  {
   "cell_type": "markdown",
   "id": "4dfac0b8-f511-4afd-aa7c-f4b46fd43f74",
   "metadata": {},
   "source": [
    "### Normalizing the data\n",
    "* int to float\n",
    "* 0 to 1 range for all pixels"
   ]
  },
  {
   "cell_type": "code",
   "execution_count": null,
   "id": "5621099a-05a3-4293-9334-30816a6b7150",
   "metadata": {},
   "outputs": [],
   "source": [
    "def prep_pixels(train , test):\n",
    "    # convert from int to float\n",
    "    train_norm = train.astype('float32')\n",
    "    test_norm = test.astype('float32')\n",
    "    # normalization to 0-1 range\n",
    "    train_norm /= 255.0\n",
    "    test_norm /= 255.0\n",
    "    return train_norm , test_norm"
   ]
  },
  {
   "cell_type": "markdown",
   "id": "8517cbcf-a5a5-4673-b4fa-157fa2066798",
   "metadata": {},
   "source": [
    "### Plotting the handwritten digits\n",
    "* so we should try plotting a graph of all the numbs in the dataset using a function"
   ]
  },
  {
   "cell_type": "code",
   "execution_count": null,
   "id": "9f6ceec7-0aa2-4ba7-ab55-5d6cf4c9f2f1",
   "metadata": {},
   "outputs": [],
   "source": [
    " x_train, x_test, y_train, y_test=load_dataset()\n",
    "fig, axes = plt.subplots(4,4,figsize=(5,5))\n",
    "for i in range(16):\n",
    "    # plt.subplot(330 + 1 + i) #330 means that 33 means 3x3 grid and then the postions are added \n",
    "    #plt.imshow(x_train[i], cmap = plt.get_cmap('gray'))\n",
    "    # a better to do the sam thing is \n",
    "    axes[i//4,i%4].imshow(x_train[i] , cmap = plt.get_cmap('gray'))\n",
    "    axes[i//4, i%4].axis('off')\n",
    "print(len(y_train))\n",
    "\n",
    "plt.show()"
   ]
  },
  {
   "cell_type": "code",
   "execution_count": null,
   "id": "9a43a721-fb6c-4914-8098-03c0c4df4886",
   "metadata": {},
   "outputs": [],
   "source": [
    "def define_model():\n",
    "    model = Sequential()\n",
    "    model.add(Conv2D(32,(3,3), activation = 'relu', kernel_initializer='he_uniform', input_shape = (28,28,1)))\n",
    "    model.add(MaxPooling2D((2,2)))\n",
    "    model.add(Flatten())\n",
    "    model.add(Dense(100,activation='relu',kernel_initializer='he_uniform'))\n",
    "    model.add(Dense(10,activation='softmax'))\n",
    "    #compiling the model\n",
    "    opt = SGD(learning_rate=0.01,momentum=0.9)\n",
    "    model.compile(optimizer=opt,loss='categorical_crossentropy', metrics=['accuracy'])\n",
    "    return model"
   ]
  },
  {
   "cell_type": "code",
   "execution_count": null,
   "id": "937028e2-6141-458c-bd5b-bc50a0c7d200",
   "metadata": {},
   "outputs": [],
   "source": [
    "def evaluate_model(dataX, dataY, n_folds=10):\n",
    "    kfold = KFold(n_splits=n_folds, shuffle=True)\n",
    "    scores = []\n",
    "    histories = []\n",
    "    print(\"Shape of dataX:\", dataX.shape)\n",
    "    print(\"Shape of dataY:\", dataY.shape)  # Add this line to check the shape of dataY\n",
    "    \n",
    "    for train_ix, test_ix in kfold.split(dataX):\n",
    "        model = define_model()\n",
    "        \n",
    "        print(\"Train indices:\", train_ix)  # Add this line to check train_ix\n",
    "        print(\"Test indices:\", test_ix)    # Add this line to check test_ix\n",
    "        \n",
    "        trainX, testX = dataX[train_ix], dataX[test_ix]\n",
    "        trainY, testY = dataY[train_ix], dataY[test_ix]\n",
    "        \n",
    "        history = model.fit(trainX, trainY, validation_data=(testX, testY), epochs=10, batch_size=32, verbose=0)\n",
    "        _, acc = model.evaluate(testX, testY, verbose=0)\n",
    "        \n",
    "        scores.append(acc)\n",
    "        histories.append(history)\n",
    "    return scores, histories\n"
   ]
  },
  {
   "cell_type": "code",
   "execution_count": null,
   "id": "b11d2060-1162-47a9-8525-3495e4ce3f4c",
   "metadata": {},
   "outputs": [],
   "source": [
    "def summarize_diagnositics(histories):\n",
    "    for i in range(len(histories)):\n",
    "        # plotting loss\n",
    "        plt.subplot(2,1,1)\n",
    "        plt.title('Cross entropy Loss')\n",
    "        plt.plot(histories[i].histories['loss'], color = 'blue', label= 'train')\n",
    "        plt.plot(histories[i].histories['val_loss'], color='red', label = 'test')\n",
    "        # plotting accuracy\n",
    "        plt.subplot(2,1,2)\n",
    "        plt.title('Classification Accuracy')\n",
    "        plt.plot(histories[i].history['accuracy'], color = 'blue', label= 'train')\n",
    "        plt.plot(histories[i].history['val_accuracy'], color = 'red', label= 'test')\n",
    "        plt.show()"
   ]
  },
  {
   "cell_type": "code",
   "execution_count": null,
   "id": "9d50376d-9d53-49ac-bbc3-33c7873283ba",
   "metadata": {},
   "outputs": [],
   "source": [
    "def summarize_performance(scores):\n",
    "    print(\"Accuracy: mean=%.3f std=%.3f, n=%d\" % (mean(scores)*100 , std(scores)*100 , len(scores)))\n",
    "    plt.boxplot(scores)\n",
    "    plt.show()"
   ]
  },
  {
   "cell_type": "code",
   "execution_count": null,
   "id": "47c151e5-8f1f-4255-833e-39d5c471c756",
   "metadata": {},
   "outputs": [],
   "source": [
    "def run_test_harness():\n",
    "    trainX, testX, trainY, testY = load_dataset()\n",
    "    trainX, testX = prep_pixels(trainX, testX)\n",
    "    scores, histories = evaluate_model(trainX, trainY)\n",
    "    summarize_diagnositics(histories)\n",
    "    summarize_performance(scores)"
   ]
  },
  {
   "cell_type": "code",
   "execution_count": null,
   "id": "c48c45e6-64e7-45b4-98f5-79914c94d1cd",
   "metadata": {
    "scrolled": true
   },
   "outputs": [],
   "source": [
    "run_test_harness()"
   ]
  },
  {
   "cell_type": "code",
   "execution_count": null,
   "id": "cc29b12f-7f7f-4e2f-93fc-32a8739b97c1",
   "metadata": {},
   "outputs": [],
   "source": []
  },
  {
   "cell_type": "code",
   "execution_count": null,
   "id": "dfc030a1-6c64-4efc-8c4f-7762f243530d",
   "metadata": {},
   "outputs": [],
   "source": []
  }
 ],
 "metadata": {
  "kernelspec": {
   "display_name": "mlenv",
   "language": "python",
   "name": "mlenv"
  },
  "language_info": {
   "codemirror_mode": {
    "name": "ipython",
    "version": 3
   },
   "file_extension": ".py",
   "mimetype": "text/x-python",
   "name": "python",
   "nbconvert_exporter": "python",
   "pygments_lexer": "ipython3",
   "version": "3.9.18"
  }
 },
 "nbformat": 4,
 "nbformat_minor": 5
}
